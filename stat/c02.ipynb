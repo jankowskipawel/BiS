{
 "cells": [
  {
   "cell_type": "code",
   "execution_count": 1,
   "metadata": {
    "collapsed": true
   },
   "outputs": [],
   "source": [
    "import matplotlib.pyplot as plt\n",
    "from scipy import stats\n",
    "import numpy as np\n",
    "from scipy.stats import binom\n",
    "from scipy.stats import poisson\n",
    "from scipy.stats import bernoulli"
   ]
  },
  {
   "cell_type": "markdown",
   "source": [
    "1"
   ],
   "metadata": {
    "collapsed": false
   }
  },
  {
   "cell_type": "code",
   "execution_count": 2,
   "outputs": [
    {
     "name": "stdout",
     "output_type": "stream",
     "text": [
      "median:  2.0\n",
      "mean:  2.5\n",
      "standard deviation 1.707825127659933\n",
      "variance 2.916666666666666\n"
     ]
    }
   ],
   "source": [
    "x = np.arange(6)\n",
    "p = (1/6, 1/6, 1/6, 1/6, 1/6, 1/6)\n",
    "rozklad = stats.rv_discrete(name='rozklad', values=(x, p))\n",
    "print(\"median: \",stats.rv_discrete.median(rozklad))\n",
    "print(\"mean: \",stats.rv_discrete.mean(rozklad))\n",
    "print(\"standard deviation\",stats.rv_discrete.std(rozklad))\n",
    "print(\"variance\",stats.rv_discrete.var(rozklad))\n"
   ],
   "metadata": {
    "collapsed": false
   }
  },
  {
   "cell_type": "markdown",
   "source": [
    "2 i 3"
   ],
   "metadata": {
    "collapsed": false
   }
  },
  {
   "cell_type": "code",
   "execution_count": 3,
   "outputs": [
    {
     "name": "stdout",
     "output_type": "stream",
     "text": [
      "binomial distribution\n",
      "mean:  16.666666666666664\n",
      "variance:  13.888888888888888\n",
      "skewnes:  0.1788854381999832\n",
      "kurtosis 0.011999999999999999\n",
      "bernoulli distribution\n",
      "mean:  0.16666666666666666\n",
      "variance:  0.1388888888888889\n",
      "skewnes:  1.7888543819998317\n",
      "kurtosis 1.1999999999999993\n",
      "poisson distribution\n",
      "mean:  100.16666666666667\n",
      "variance:  100.0\n",
      "skewnes:  0.1\n",
      "kurtosis 0.01\n"
     ]
    }
   ],
   "source": [
    "n, p,mu = 100, 1/6,1/6\n",
    "mean, var, skew, kurt = binom.stats(n, p, moments='mvsk')\n",
    "print(\"binomial distribution\")\n",
    "print(\"mean: \",mean)\n",
    "print(\"variance: \",var)\n",
    "print(\"skewnes: \",skew)\n",
    "print(\"kurtosis\",kurt)\n",
    "\n",
    "mean, var, skew, kurt = bernoulli.stats(p, moments='mvsk')\n",
    "print(\"bernoulli distribution\")\n",
    "print(\"mean: \",mean)\n",
    "print(\"variance: \",var)\n",
    "print(\"skewnes: \",skew)\n",
    "print(\"kurtosis\",kurt)\n",
    "\n",
    "mean, var, skew, kurt = poisson.stats(n, p, moments='mvsk')\n",
    "print(\"poisson distribution\")\n",
    "print(\"mean: \",mean)\n",
    "print(\"variance: \",var)\n",
    "print(\"skewnes: \",skew)\n",
    "print(\"kurtosis\",kurt)"
   ],
   "metadata": {
    "collapsed": false
   }
  },
  {
   "cell_type": "markdown",
   "source": [
    "4"
   ],
   "metadata": {
    "collapsed": false
   }
  },
  {
   "cell_type": "code",
   "execution_count": 4,
   "outputs": [
    {
     "data": {
      "text/plain": "<matplotlib.collections.LineCollection at 0x151231ba248>"
     },
     "execution_count": 4,
     "metadata": {},
     "output_type": "execute_result"
    },
    {
     "data": {
      "text/plain": "<Figure size 432x288 with 3 Axes>",
      "image/png": "[encoded data removed]"
     },
     "metadata": {
      "needs_background": "light"
     },
     "output_type": "display_data"
    }
   ],
   "source": [
    "fig = plt.figure()\n",
    "plt.subplot(1, 3,1)\n",
    "x = np.arange(bernoulli.ppf(0.01, p),\n",
    "              bernoulli.ppf(0.99, p))\n",
    "plt.plot(x, bernoulli.pmf(x, p), 'bo', ms=8, label='bernoulli pmf')\n",
    "plt.vlines(x, 0, bernoulli.pmf(x, p), colors='b', lw=5, alpha=0.5)\n",
    "\n",
    "plt.subplot(1,3,2)\n",
    "x = np.arange(binom.ppf(0.01, n, p),\n",
    "              binom.ppf(0.99, n, p))\n",
    "plt.plot(x, binom.pmf(x, n, p), 'bo', ms=8, label='binom pmf')\n",
    "plt.vlines(x, 0, binom.pmf(x, n, p), colors='b', lw=5, alpha=0.5)\n",
    "\n",
    "plt.subplot(1,3,3)\n",
    "x = np.arange(poisson.ppf(0.01, mu),\n",
    "              poisson.ppf(0.99, mu))\n",
    "plt.plot(x, poisson.pmf(x, mu), 'bo', ms=8, label='poisson pmf')\n",
    "plt.vlines(x, 0, poisson.pmf(x, mu), colors='b', lw=5, alpha=0.5)\n",
    "\n"
   ],
   "metadata": {
    "collapsed": false
   }
  },
  {
   "cell_type": "markdown",
   "source": [
    "5"
   ],
   "metadata": {
    "collapsed": false
   }
  },
  {
   "cell_type": "code",
   "execution_count": 6,
   "outputs": [
    {
     "name": "stdout",
     "output_type": "stream",
     "text": [
      "1.000000000000001\n"
     ]
    }
   ],
   "source": [
    "sum = 0\n",
    "for i in range(21):\n",
    "    x = binom.pmf(i,20,0.4)\n",
    "    sum = sum + x\n",
    "print(sum)"
   ],
   "metadata": {
    "collapsed": false
   }
  },
  {
   "cell_type": "markdown",
   "source": [
    "6"
   ],
   "metadata": {
    "collapsed": false
   }
  },
  {
   "cell_type": "code",
   "execution_count": 7,
   "outputs": [
    {
     "name": "stdout",
     "output_type": "stream",
     "text": [
      "[ 1.51330274e+00 -1.35964546e+00 -3.49068344e+00  2.75299846e-01\n",
      "  3.24119567e+00  2.49201852e+00 -6.61236170e-03 -2.28863711e+00\n",
      "  1.61697575e+00  1.81724978e+00 -2.08830850e+00  6.68656474e-01\n",
      "  1.53909263e+00 -6.76088683e-01  4.29788404e-01  9.55573365e-01\n",
      "  1.50092926e+00 -2.49573815e+00 -1.02705175e+00 -1.74101503e+00\n",
      " -2.91810256e+00 -1.36574002e+00 -1.22271387e-01  1.78095924e+00\n",
      " -1.33272595e+00  4.96162107e-01 -6.00782694e-01 -2.60798249e+00\n",
      "  3.68679535e-01  2.55355729e+00 -2.56241213e+00  3.75696415e+00\n",
      " -1.11994081e+00 -1.63191651e-01  3.36661113e+00  2.35898763e+00\n",
      " -5.99610908e-01  7.97579745e-01 -1.69889551e+00  1.79602022e-01\n",
      " -4.49927268e-01 -4.33892286e-01  1.19854694e+00  1.47560294e+00\n",
      "  2.87567077e-02  3.09242938e+00  1.95790572e-01  2.27097180e-01\n",
      " -9.51090999e-01  6.27074439e-01 -1.02328121e+00  2.22458611e-01\n",
      " -3.02298595e+00 -1.79950673e+00 -1.28699077e+00  8.65079058e-01\n",
      " -2.06463446e+00  7.81305335e-01 -1.74769510e+00 -2.28478915e+00\n",
      " -3.47708127e+00  1.72184620e+00  2.64109309e+00 -7.88701358e-01\n",
      " -3.08750712e-01 -3.97487799e+00 -1.20557007e+00  1.90920819e+00\n",
      "  1.41822570e+00 -2.34426260e-01 -1.57320096e+00 -1.98680571e+00\n",
      "  2.01958249e+00  1.33737296e+00  3.29244183e-01  1.57474507e+00\n",
      " -3.18489444e-01 -1.60029535e+00 -9.55789072e-02 -1.17648628e+00\n",
      " -3.29951065e+00 -6.81945729e-01 -2.70394341e-03 -1.79785539e+00\n",
      "  5.09782967e-01 -4.64775509e+00  2.10875744e+00  2.01717936e+00\n",
      " -1.09227413e+00  3.03667712e-01  4.14391379e+00  1.52807929e+00\n",
      "  3.68163233e-01  1.30261528e+00  3.70637707e+00  2.37465402e+00\n",
      "  8.04303525e-01  4.83614494e-01 -2.90372704e-02 -7.88276223e-01]\n"
     ]
    }
   ],
   "source": [
    "data = stats.norm.rvs(0, 2, size=100)\n",
    "print(data)"
   ],
   "metadata": {
    "collapsed": false
   }
  },
  {
   "cell_type": "markdown",
   "source": [
    "7"
   ],
   "metadata": {
    "collapsed": false
   }
  },
  {
   "cell_type": "code",
   "execution_count": 8,
   "outputs": [
    {
     "data": {
      "text/plain": "<AxesSubplot:>"
     },
     "execution_count": 8,
     "metadata": {},
     "output_type": "execute_result"
    },
    {
     "data": {
      "text/plain": "<Figure size 432x288 with 2 Axes>",
      "image/png": "[encoded data removed]"
     },
     "metadata": {
      "needs_background": "light"
     },
     "output_type": "display_data"
    }
   ],
   "source": [
    "plt.figure()\n",
    "data = stats.norm.rvs(1, 2, size=500)\n",
    "plt.subplot(1,2,1)\n",
    "plt.hist(data)\n",
    "data = stats.norm.pdf(-1,0.5)\n",
    "plt.subplot(1,2,2)"
   ],
   "metadata": {
    "collapsed": false
   }
  }
 ],
 "metadata": {
  "kernelspec": {
   "display_name": "Python 3",
   "language": "python",
   "name": "python3"
  },
  "language_info": {
   "codemirror_mode": {
    "name": "ipython",
    "version": 2
   },
   "file_extension": ".py",
   "mimetype": "text/x-python",
   "name": "python",
   "nbconvert_exporter": "python",
   "pygments_lexer": "ipython2",
   "version": "2.7.6"
  }
 },
 "nbformat": 4,
 "nbformat_minor": 0
}
