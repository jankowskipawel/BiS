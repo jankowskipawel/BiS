{
 "cells": [
  {
   "cell_type": "markdown",
   "source": [
    "1"
   ],
   "metadata": {
    "collapsed": false
   }
  },
  {
   "cell_type": "code",
   "execution_count": 1,
   "outputs": [
    {
     "name": "stdout",
     "output_type": "stream",
     "text": [
      "Ttest_1sampResult(statistic=-1.239805194278211, pvalue=0.2165074611946258)\n"
     ]
    }
   ],
   "source": [
    "from scipy import stats\n",
    "import pandas as pd\n",
    "data = stats.norm.rvs(2,30,size=200)\n",
    "results = stats.ttest_1samp(data,2.5)\n",
    "print(results)\n",
    "#Nie ma podstaw do odrzucenia hipotezy"
   ],
   "metadata": {
    "collapsed": false
   }
  },
  {
   "cell_type": "markdown",
   "source": [
    "2"
   ],
   "metadata": {
    "collapsed": false
   }
  },
  {
   "cell_type": "code",
   "execution_count": 3,
   "outputs": [
    {
     "name": "stdout",
     "output_type": "stream",
     "text": [
      "pepsi: 111414.69270833333\n",
      "fanta: 43395.59375\n",
      "zywiec: 176803.38020833334\n",
      "okocim: 60679.833333333336\n",
      "regionalne: 48668.036458333336\n",
      "cola: 226389.46875\n",
      "lech: 61091.348958333336\n"
     ]
    }
   ],
   "source": [
    "df = pd.read_csv(\"napoje.csv\",delimiter=\";\")\n",
    "df.head()\n",
    "for i in df.iloc[:,2:]:\n",
    "    print(f\"{i}: {df[i].mean()}\")"
   ],
   "metadata": {
    "collapsed": false
   }
  },
  {
   "cell_type": "code",
   "execution_count": 4,
   "outputs": [
    {
     "name": "stdout",
     "output_type": "stream",
     "text": [
      "cola:  Ttest_1sampResult(statistic=6.391908975571081, pvalue=1.2249714535216756e-09)\n",
      "lech:  Ttest_1sampResult(statistic=1.646503944538866, pvalue=0.10130442686854728)\n",
      "regionalne:  Ttest_1sampResult(statistic=17.440927488514944, pvalue=2.2572528828603765e-41)\n"
     ]
    }
   ],
   "source": [
    "cola = stats.ttest_1samp(df['cola'],222000)\n",
    "print(\"cola: \",cola)\n",
    "\n",
    "lech = stats.ttest_1samp(df['lech'],60500)\n",
    "print(\"lech: \",lech)\n",
    "\n",
    "regionalne = stats.ttest_1samp(df['regionalne'],43500)\n",
    "print(\"regionalne: \",regionalne)"
   ],
   "metadata": {
    "collapsed": false
   }
  },
  {
   "cell_type": "markdown",
   "source": [
    "3"
   ],
   "metadata": {
    "collapsed": false
   }
  },
  {
   "cell_type": "code",
   "execution_count": 8,
   "outputs": [
    {
     "name": "stdout",
     "output_type": "stream",
     "text": [
      "mies\n",
      "9.254690863645396e-22\n",
      "result do not show normality\n",
      "=====\n",
      "rok\n",
      "6.71326167207233e-21\n",
      "result do not show normality\n",
      "=====\n",
      "pepsi\n",
      "0.7200062116206445\n",
      "result shows normality\n",
      "=====\n",
      "fanta\n",
      "0.1826792656115071\n",
      "result shows normality\n",
      "=====\n",
      "zywiec\n",
      "0.34024553142391856\n",
      "result shows normality\n",
      "=====\n",
      "okocim\n",
      "0.12645798710253495\n",
      "result shows normality\n",
      "=====\n",
      "regionalne\n",
      "2.721214025437686e-07\n",
      "result do not show normality\n",
      "=====\n",
      "cola\n",
      "0.5358705042542622\n",
      "result shows normality\n",
      "=====\n",
      "lech\n",
      "0.4732014584808095\n",
      "result shows normality\n",
      "=====\n"
     ]
    }
   ],
   "source": [
    "alpha = 0.001\n",
    "for x in df:\n",
    "    k2,p = stats.normaltest(df[x])\n",
    "    print(x)\n",
    "    print(p)\n",
    "    if p < alpha:\n",
    "        print(\"result do not show normality\")\n",
    "    else:\n",
    "        print(\"result shows normality\")\n",
    "    print(\"=====\")"
   ],
   "metadata": {
    "collapsed": false
   }
  },
  {
   "cell_type": "markdown",
   "source": [
    "4"
   ],
   "metadata": {
    "collapsed": false
   }
  },
  {
   "cell_type": "code",
   "execution_count": 9,
   "outputs": [
    {
     "name": "stdout",
     "output_type": "stream",
     "text": [
      "okocim_lech:  Ttest_indResult(statistic=-0.8323919685480173, pvalue=0.4057078093583594)\n",
      "fanta_regionalne:  Ttest_indResult(statistic=-11.013919429372727, pvalue=1.097001288015355e-24)\n",
      "cola_pepsi:  Ttest_indResult(statistic=145.61815604546564, pvalue=0.0)\n"
     ]
    }
   ],
   "source": [
    "okocim_lech = stats.ttest_ind(df['okocim'],df['lech'])\n",
    "print(\"okocim_lech: \",okocim_lech)\n",
    "\n",
    "fanta_regionalne = stats.ttest_ind(df['fanta'],df['regionalne'])\n",
    "print(\"fanta_regionalne: \",fanta_regionalne)\n",
    "\n",
    "cola_pepsi = stats.ttest_ind(df['cola'],df['pepsi'])\n",
    "print(\"cola_pepsi: \",cola_pepsi)"
   ],
   "metadata": {
    "collapsed": false
   }
  },
  {
   "cell_type": "markdown",
   "source": [
    "5"
   ],
   "metadata": {
    "collapsed": false
   }
  },
  {
   "cell_type": "code",
   "execution_count": 10,
   "outputs": [
    {
     "name": "stdout",
     "output_type": "stream",
     "text": [
      "okocim - lech LeveneResult(statistic=1.191182232831977, pvalue=0.2757791126546958)\n",
      "zywiec - fanta LeveneResult(statistic=1.4760992846958803, pvalue=0.2251362462983421)\n",
      "regionalne - cola LeveneResult(statistic=83.85984593010029, pvalue=3.275749775904902e-18)\n"
     ]
    }
   ],
   "source": [
    "okocim_lech = stats.levene(df['okocim'],df['lech'])\n",
    "print(\"okocim - lech\",okocim_lech)\n",
    "\n",
    "zywiec_fanta = stats.levene(df['zywiec'],df['fanta'])\n",
    "print(\"zywiec - fanta\",zywiec_fanta)\n",
    "\n",
    "regionalne_cola = stats.levene(df['regionalne'],df['cola'])\n",
    "print(\"regionalne - cola\",regionalne_cola)"
   ],
   "metadata": {
    "collapsed": false
   }
  },
  {
   "cell_type": "markdown",
   "source": [
    "6"
   ],
   "metadata": {
    "collapsed": false
   }
  },
  {
   "cell_type": "code",
   "execution_count": 11,
   "outputs": [
    {
     "name": "stdout",
     "output_type": "stream",
     "text": [
      "Ttest_indResult(statistic=-3.597778058271827, pvalue=0.0016000242362201897)\n"
     ]
    }
   ],
   "source": [
    "rok_2001 = df['regionalne'].loc[df['rok']==2001]\n",
    "rok_2015 = df['regionalne'].loc[df['rok']==2015]\n",
    "test_rownosc_srednich = stats.ttest_ind(rok_2001,rok_2015)\n",
    "print(test_rownosc_srednich)"
   ],
   "metadata": {
    "collapsed": false
   }
  },
  {
   "cell_type": "markdown",
   "source": [
    "7"
   ],
   "metadata": {
    "collapsed": false
   }
  },
  {
   "cell_type": "code",
   "execution_count": 14,
   "outputs": [
    {
     "name": "stdout",
     "output_type": "stream",
     "text": [
      "pepsi Ttest_relResult(statistic=-0.20520478240138976, pvalue=0.8411601080767367)\n",
      "cola Ttest_relResult(statistic=0.11032676911481809, pvalue=0.9141373808316627)\n",
      "fanta Ttest_relResult(statistic=0.3199018672121306, pvalue=0.7550366759257837)\n"
     ]
    }
   ],
   "source": [
    "data = pd.read_csv(\"napoje.csv\",delimiter=\";\")\n",
    "po_reklamie = pd.read_csv(\"napoje_po_reklamie.csv\",delimiter=\";\")\n",
    "\n",
    "rok_2016 = data[['pepsi','cola','fanta']][data[\"rok\"]==2016]\n",
    "result_pepsi = stats.ttest_rel(rok_2016['pepsi'],po_reklamie['pepsi'])\n",
    "print(\"pepsi\", result_pepsi)\n",
    "\n",
    "result_pepsi = stats.ttest_rel(rok_2016['cola'],po_reklamie['cola'])\n",
    "print(\"cola\", result_pepsi)\n",
    "\n",
    "result_pepsi = stats.ttest_rel(rok_2016['fanta'],po_reklamie['fanta'])\n",
    "print(\"fanta\",result_pepsi)"
   ],
   "metadata": {
    "collapsed": false
   }
  }
 ],
 "metadata": {
  "kernelspec": {
   "display_name": "Python 3",
   "language": "python",
   "name": "python3"
  },
  "language_info": {
   "codemirror_mode": {
    "name": "ipython",
    "version": 2
   },
   "file_extension": ".py",
   "mimetype": "text/x-python",
   "name": "python",
   "nbconvert_exporter": "python",
   "pygments_lexer": "ipython2",
   "version": "2.7.6"
  }
 },
 "nbformat": 4,
 "nbformat_minor": 0
}
